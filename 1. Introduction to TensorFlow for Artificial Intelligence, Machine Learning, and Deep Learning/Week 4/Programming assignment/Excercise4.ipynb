{
 "cells": [
  {
   "cell_type": "markdown",
   "metadata": {},
   "source": [
    "[![Open In Colab](https://colab.research.google.com/assets/colab-badge.svg)](https://colab.research.google.com/github/lmoroney/dlaicourse/blob/master/Exercises/Exercise%204%20-%20Handling%20Complex%20Images/Exercise%204-Question.ipynb)\n"
   ]
  },
  {
   "cell_type": "markdown",
   "metadata": {
    "colab_type": "text",
    "id": "UncprnB0ymAE"
   },
   "source": [
    "Below is code with a link to a happy or sad dataset which contains 80 images, 40 happy and 40 sad. \n",
    "Create a convolutional neural network that trains to 100% accuracy on these images,  which cancels training upon hitting training accuracy of >.999\n",
    "\n",
    "Hint -- it will work best with 3 convolutional layers."
   ]
  },
  {
   "cell_type": "code",
   "execution_count": 1,
   "metadata": {},
   "outputs": [
    {
     "name": "stdout",
     "output_type": "stream",
     "text": [
      "Collecting tensorflow==2.0.0-alpha0\n",
      "  Downloading tensorflow-2.0.0a0-cp37-cp37m-macosx_10_11_x86_64.whl (64.2 MB)\n",
      "\u001b[K     |████████████████████████████████| 64.2 MB 52 kB/s  eta 0:00:01     |███████▋                        | 15.3 MB 1.1 MB/s eta 0:00:46     |█████████                       | 18.2 MB 2.0 MB/s eta 0:00:23     |██████████████████              | 36.2 MB 1.7 MB/s eta 0:00:17     |███████████████████             | 37.9 MB 593 kB/s eta 0:00:45     |███████████████████▎            | 38.7 MB 651 kB/s eta 0:00:40     |████████████████████████▉       | 49.8 MB 2.0 MB/s eta 0:00:08\n",
      "\u001b[?25hRequirement already satisfied: protobuf>=3.6.1 in /opt/anaconda3/envs/anthony/lib/python3.7/site-packages (from tensorflow==2.0.0-alpha0) (3.17.3)\n",
      "Collecting tb-nightly<1.14.0a20190302,>=1.14.0a20190301\n",
      "  Downloading tb_nightly-1.14.0a20190301-py3-none-any.whl (3.0 MB)\n",
      "\u001b[K     |████████████████████████████████| 3.0 MB 875 kB/s eta 0:00:01\n",
      "\u001b[?25hRequirement already satisfied: termcolor>=1.1.0 in /opt/anaconda3/envs/anthony/lib/python3.7/site-packages (from tensorflow==2.0.0-alpha0) (1.1.0)\n",
      "Requirement already satisfied: gast>=0.2.0 in /opt/anaconda3/envs/anthony/lib/python3.7/site-packages (from tensorflow==2.0.0-alpha0) (0.4.0)\n",
      "Collecting keras-applications>=1.0.6\n",
      "  Using cached Keras_Applications-1.0.8-py3-none-any.whl (50 kB)\n",
      "Requirement already satisfied: wheel>=0.26 in /opt/anaconda3/envs/anthony/lib/python3.7/site-packages (from tensorflow==2.0.0-alpha0) (0.37.0)\n",
      "Requirement already satisfied: six>=1.10.0 in /opt/anaconda3/envs/anthony/lib/python3.7/site-packages (from tensorflow==2.0.0-alpha0) (1.15.0)\n",
      "Requirement already satisfied: google-pasta>=0.1.2 in /opt/anaconda3/envs/anthony/lib/python3.7/site-packages (from tensorflow==2.0.0-alpha0) (0.2.0)\n",
      "Requirement already satisfied: keras-preprocessing>=1.0.5 in /opt/anaconda3/envs/anthony/lib/python3.7/site-packages (from tensorflow==2.0.0-alpha0) (1.1.2)\n",
      "Requirement already satisfied: numpy<2.0,>=1.14.5 in /opt/anaconda3/envs/anthony/lib/python3.7/site-packages (from tensorflow==2.0.0-alpha0) (1.19.5)\n",
      "Collecting astor>=0.6.0\n",
      "  Using cached astor-0.8.1-py2.py3-none-any.whl (27 kB)\n",
      "Requirement already satisfied: absl-py>=0.7.0 in /opt/anaconda3/envs/anthony/lib/python3.7/site-packages (from tensorflow==2.0.0-alpha0) (0.13.0)\n",
      "Collecting tf-estimator-nightly<1.14.0.dev2019030116,>=1.14.0.dev2019030115\n",
      "  Downloading tf_estimator_nightly-1.14.0.dev2019030115-py2.py3-none-any.whl (411 kB)\n",
      "\u001b[K     |████████████████████████████████| 411 kB 1.8 MB/s eta 0:00:01\n",
      "\u001b[?25hRequirement already satisfied: grpcio>=1.8.6 in /opt/anaconda3/envs/anthony/lib/python3.7/site-packages (from tensorflow==2.0.0-alpha0) (1.39.0)\n",
      "Requirement already satisfied: h5py in /opt/anaconda3/envs/anthony/lib/python3.7/site-packages (from keras-applications>=1.0.6->tensorflow==2.0.0-alpha0) (3.1.0)\n",
      "Requirement already satisfied: markdown>=2.6.8 in /opt/anaconda3/envs/anthony/lib/python3.7/site-packages (from tb-nightly<1.14.0a20190302,>=1.14.0a20190301->tensorflow==2.0.0-alpha0) (3.3.4)\n",
      "Requirement already satisfied: werkzeug>=0.11.15 in /opt/anaconda3/envs/anthony/lib/python3.7/site-packages (from tb-nightly<1.14.0a20190302,>=1.14.0a20190301->tensorflow==2.0.0-alpha0) (2.0.1)\n",
      "Requirement already satisfied: importlib-metadata in /opt/anaconda3/envs/anthony/lib/python3.7/site-packages (from markdown>=2.6.8->tb-nightly<1.14.0a20190302,>=1.14.0a20190301->tensorflow==2.0.0-alpha0) (3.10.0)\n",
      "Requirement already satisfied: cached-property in /opt/anaconda3/envs/anthony/lib/python3.7/site-packages (from h5py->keras-applications>=1.0.6->tensorflow==2.0.0-alpha0) (1.5.2)\n",
      "Requirement already satisfied: typing-extensions>=3.6.4 in /opt/anaconda3/envs/anthony/lib/python3.7/site-packages (from importlib-metadata->markdown>=2.6.8->tb-nightly<1.14.0a20190302,>=1.14.0a20190301->tensorflow==2.0.0-alpha0) (3.7.4.3)\n",
      "Requirement already satisfied: zipp>=0.5 in /opt/anaconda3/envs/anthony/lib/python3.7/site-packages (from importlib-metadata->markdown>=2.6.8->tb-nightly<1.14.0a20190302,>=1.14.0a20190301->tensorflow==2.0.0-alpha0) (3.5.0)\n",
      "Installing collected packages: tf-estimator-nightly, tb-nightly, keras-applications, astor, tensorflow\n",
      "  Attempting uninstall: tensorflow\n",
      "    Found existing installation: tensorflow 2.6.0\n",
      "    Uninstalling tensorflow-2.6.0:\n",
      "      Successfully uninstalled tensorflow-2.6.0\n",
      "Successfully installed astor-0.8.1 keras-applications-1.0.8 tb-nightly-1.14.0a20190301 tensorflow-2.0.0a0 tf-estimator-nightly-1.14.0.dev2019030115\n"
     ]
    }
   ],
   "source": [
    "!pip install tensorflow==2.0.0-alpha0 "
   ]
  },
  {
   "cell_type": "code",
   "execution_count": 2,
   "metadata": {},
   "outputs": [],
   "source": [
    "import tensorflow as tf\n",
    "import os\n",
    "import zipfile\n",
    "from os import path, getcwd, chdir\n",
    "\n",
    "# DO NOT CHANGE THE LINE BELOW. If you are developing in a local\n",
    "# environment, then grab happy-or-sad.zip from the Coursera Jupyter Notebook\n",
    "# and place it inside a local folder and edit the path to that location\n",
    "path = f\"{getcwd()}/../tmp2/happy-or-sad.zip\"\n",
    "\n",
    "zip_ref = zipfile.ZipFile(path, 'r')\n",
    "zip_ref.extractall(\"/tmp/h-or-s\")\n",
    "zip_ref.close()"
   ]
  },
  {
   "cell_type": "code",
   "execution_count": 15,
   "metadata": {},
   "outputs": [],
   "source": [
    "# GRADED FUNCTION: train_happy_sad_model\n",
    "def train_happy_sad_model():\n",
    "    # Please write your code only where you are indicated.\n",
    "    # please do not remove # model fitting inline comments.\n",
    "\n",
    "    DESIRED_ACCURACY = 0.999\n",
    "\n",
    "    class myCallback(tf.keras.callbacks.Callback):\n",
    "         def on_epoch_end(self, epoch, logs={}):\n",
    "            if logs.get(\"acc\") > DESIRED_ACCURACY:\n",
    "                self.model.stop_training = True\n",
    "\n",
    "    callbacks = myCallback()\n",
    "    \n",
    "    # This Code Block should Define and Compile the Model. Please assume the images are 150 X 150 in your implementation.\n",
    "    model = tf.keras.models.Sequential([\n",
    "        tf.keras.layers.Conv2D(32, (3, 3), input_shape=(150, 150, 3), activation=\"relu\"),\n",
    "        tf.keras.layers.MaxPooling2D((2, 2)),\n",
    "        tf.keras.layers.Conv2D(32, (3, 3), activation=\"relu\"),\n",
    "        tf.keras.layers.MaxPooling2D((2, 2)),\n",
    "        tf.keras.layers.Conv2D(16, (3, 3), activation=\"relu\"),\n",
    "        tf.keras.layers.MaxPooling2D((2, 2)),\n",
    "        tf.keras.layers.Flatten(),\n",
    "        tf.keras.layers.Dense(128, activation=\"relu\"),\n",
    "        tf.keras.layers.Dense(1, activation=\"sigmoid\")\n",
    "    ])\n",
    "\n",
    "    from tensorflow.keras.optimizers import RMSprop\n",
    "\n",
    "    model.compile(loss=\"binary_crossentropy\", optimizer=RMSprop(learning_rate=.001), metrics=[\"accuracy\"])\n",
    "        \n",
    "\n",
    "    # This code block should create an instance of an ImageDataGenerator called train_datagen \n",
    "    # And a train_generator by calling train_datagen.flow_from_directory\n",
    "\n",
    "    from tensorflow.keras.preprocessing.image import ImageDataGenerator\n",
    "\n",
    "    train_datagen = ImageDataGenerator(rescale=1/255.0)\n",
    "\n",
    "    # Please use a target_size of 150 X 150.\n",
    "    train_generator = train_datagen.flow_from_directory(\n",
    "        \"/tmp/h-or-s\",\n",
    "        target_size=(150, 150),\n",
    "        class_mode=\"binary\"\n",
    "    )\n",
    "    # Expected output: 'Found 80 images belonging to 2 classes'\n",
    "\n",
    "    # This code block should call model.fit_generator and train for\n",
    "    # a number of epochs.\n",
    "    # model fitting\n",
    "    history = model.fit_generator(\n",
    "          train_generator,  epochs = 50, callbacks=[callbacks]\n",
    "    )\n",
    "    # model fitting\n",
    "    return history.history['acc'][-1]"
   ]
  },
  {
   "cell_type": "code",
   "execution_count": 16,
   "metadata": {},
   "outputs": [
    {
     "name": "stdout",
     "output_type": "stream",
     "text": [
      "Found 80 images belonging to 2 classes.\n",
      "Epoch 1/50\n",
      "3/3 [==============================] - 2s 562ms/step - loss: 1.3019 - acc: 0.4750\n",
      "Epoch 2/50\n",
      "3/3 [==============================] - 0s 161ms/step - loss: 0.6825 - acc: 0.4250\n",
      "Epoch 3/50\n",
      "3/3 [==============================] - 0s 137ms/step - loss: 0.6486 - acc: 0.6625\n",
      "Epoch 4/50\n",
      "3/3 [==============================] - 0s 161ms/step - loss: 0.5018 - acc: 0.8875\n",
      "Epoch 5/50\n",
      "3/3 [==============================] - 0s 137ms/step - loss: 0.4934 - acc: 0.8375\n",
      "Epoch 6/50\n",
      "3/3 [==============================] - 0s 162ms/step - loss: 0.4328 - acc: 0.7750\n",
      "Epoch 7/50\n",
      "3/3 [==============================] - 0s 134ms/step - loss: 0.2565 - acc: 0.9625\n",
      "Epoch 8/50\n",
      "3/3 [==============================] - 0s 133ms/step - loss: 0.2512 - acc: 0.8875\n",
      "Epoch 9/50\n",
      "3/3 [==============================] - 0s 135ms/step - loss: 0.2360 - acc: 0.9500\n",
      "Epoch 10/50\n",
      "3/3 [==============================] - 0s 134ms/step - loss: 0.1519 - acc: 0.9625\n",
      "Epoch 11/50\n",
      "3/3 [==============================] - 0s 134ms/step - loss: 0.1103 - acc: 0.9500\n",
      "Epoch 12/50\n",
      "3/3 [==============================] - 0s 136ms/step - loss: 0.2408 - acc: 0.8750\n",
      "Epoch 13/50\n",
      "3/3 [==============================] - 0s 136ms/step - loss: 0.1083 - acc: 0.9750\n",
      "Epoch 14/50\n",
      "3/3 [==============================] - 0s 136ms/step - loss: 0.1104 - acc: 0.9750\n",
      "Epoch 15/50\n",
      "3/3 [==============================] - 0s 131ms/step - loss: 0.0915 - acc: 0.9625\n",
      "Epoch 16/50\n",
      "3/3 [==============================] - 0s 129ms/step - loss: 0.0619 - acc: 0.9750\n",
      "Epoch 17/50\n",
      "3/3 [==============================] - 0s 110ms/step - loss: 0.1503 - acc: 0.9750\n",
      "Epoch 18/50\n",
      "3/3 [==============================] - 0s 137ms/step - loss: 0.0916 - acc: 0.9750\n",
      "Epoch 19/50\n",
      "3/3 [==============================] - 0s 134ms/step - loss: 0.0669 - acc: 0.9625\n",
      "Epoch 20/50\n",
      "3/3 [==============================] - 0s 134ms/step - loss: 0.1732 - acc: 0.9000\n",
      "Epoch 21/50\n",
      "3/3 [==============================] - 0s 133ms/step - loss: 0.0444 - acc: 0.9875\n",
      "Epoch 22/50\n",
      "3/3 [==============================] - 0s 160ms/step - loss: 0.0257 - acc: 1.0000\n"
     ]
    },
    {
     "data": {
      "text/plain": [
       "1.0"
      ]
     },
     "execution_count": 16,
     "metadata": {},
     "output_type": "execute_result"
    }
   ],
   "source": [
    "# The Expected output: \"Reached 99.9% accuracy so cancelling training!\"\"\n",
    "train_happy_sad_model()"
   ]
  },
  {
   "cell_type": "code",
   "execution_count": 4,
   "metadata": {},
   "outputs": [],
   "source": [
    "# Now click the 'Submit Assignment' button above.\n",
    "# Once that is complete, please run the following two cells to save your work and close the notebook"
   ]
  },
  {
   "cell_type": "code",
   "execution_count": null,
   "metadata": {},
   "outputs": [],
   "source": [
    "%%javascript\n",
    "<!-- Save the notebook -->\n",
    "IPython.notebook.save_checkpoint();"
   ]
  },
  {
   "cell_type": "code",
   "execution_count": null,
   "metadata": {},
   "outputs": [],
   "source": [
    "%%javascript\n",
    "IPython.notebook.session.delete();\n",
    "window.onbeforeunload = null\n",
    "setTimeout(function() { window.close(); }, 1000);"
   ]
  }
 ],
 "metadata": {
  "coursera": {
   "course_slug": "introduction-tensorflow",
   "graded_item_id": "1kAlw",
   "launcher_item_id": "PNLYD"
  },
  "kernelspec": {
   "display_name": "Python 3",
   "language": "python",
   "name": "python3"
  },
  "language_info": {
   "codemirror_mode": {
    "name": "ipython",
    "version": 3
   },
   "file_extension": ".py",
   "mimetype": "text/x-python",
   "name": "python",
   "nbconvert_exporter": "python",
   "pygments_lexer": "ipython3",
   "version": "3.7.0"
  }
 },
 "nbformat": 4,
 "nbformat_minor": 4
}
